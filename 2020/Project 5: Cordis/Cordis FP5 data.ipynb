{
 "cells": [
  {
   "cell_type": "code",
   "execution_count": 1,
   "metadata": {},
   "outputs": [],
   "source": [
    "# # Cordis EU research project under FP5\n",
    "\n",
    "# This dataset contains all projects funded by the European Union under the fifth framework programme for research and \n",
    "# technological development (FP5) from 1998 to 2002.\n",
    "\n",
    "# The file 'FP5 Projects' contains the public grant information for each project, including the following information: \n",
    "# Record Control Number (RCN), project ID (grant agreement number), project acronym, project status, funding programme, \n",
    "# topic, project title, project start date, project end date, project objective, project total cost, EC max contribution \n",
    "# (commitment), call ID, funding scheme (type of action), coordinator, coordinator country, participants (ordered in a \n",
    "# semi-colon separated list), participant countries (ordered in a semi-colon separated list).\n",
    "\n",
    "# The participating organisations are listed in the file 'FP5 Organisations' which includes: project Record Control Number \n",
    "# (RCN), project ID, project acronym, organisation role, organisation ID, organisation name, organisation short name, \n",
    "# organisation type, participation ended (true/false), EC contribution, organisation country."
   ]
  },
  {
   "cell_type": "code",
   "execution_count": 2,
   "metadata": {},
   "outputs": [],
   "source": [
    "import pandas as pd\n",
    "import matplotlib.pyplot as plt\n",
    "import seaborn as sns\n",
    "import numpy as np\n",
    "import warnings\n",
    "warnings.simplefilter(action='ignore', category=FutureWarning)\n",
    "import plotly.graph_objects as go"
   ]
  },
  {
   "cell_type": "code",
   "execution_count": 3,
   "metadata": {},
   "outputs": [],
   "source": [
    "data = pd.read_csv(\"cordis_fp5organizations.csv\")"
   ]
  },
  {
   "cell_type": "code",
   "execution_count": 4,
   "metadata": {
    "scrolled": false
   },
   "outputs": [
    {
     "data": {
      "text/html": [
       "<div>\n",
       "<style scoped>\n",
       "    .dataframe tbody tr th:only-of-type {\n",
       "        vertical-align: middle;\n",
       "    }\n",
       "\n",
       "    .dataframe tbody tr th {\n",
       "        vertical-align: top;\n",
       "    }\n",
       "\n",
       "    .dataframe thead th {\n",
       "        text-align: right;\n",
       "    }\n",
       "</style>\n",
       "<table border=\"1\" class=\"dataframe\">\n",
       "  <thead>\n",
       "    <tr style=\"text-align: right;\">\n",
       "      <th></th>\n",
       "      <th>projectRcn</th>\n",
       "      <th>projectID</th>\n",
       "      <th>projectAcronym</th>\n",
       "      <th>role</th>\n",
       "      <th>id</th>\n",
       "      <th>name</th>\n",
       "      <th>shortName</th>\n",
       "      <th>activityType</th>\n",
       "      <th>endOfParticipation</th>\n",
       "      <th>ecContribution</th>\n",
       "      <th>...</th>\n",
       "      <th>organizationUrl</th>\n",
       "      <th>vatNumber</th>\n",
       "      <th>contactForm</th>\n",
       "      <th>contactType</th>\n",
       "      <th>contactTitle</th>\n",
       "      <th>contactFirstNames</th>\n",
       "      <th>contactLastNames</th>\n",
       "      <th>contactFunction</th>\n",
       "      <th>contactTelephoneNumber</th>\n",
       "      <th>contactFaxNumber</th>\n",
       "    </tr>\n",
       "  </thead>\n",
       "  <tbody>\n",
       "    <tr>\n",
       "      <th>0</th>\n",
       "      <td>67894</td>\n",
       "      <td>HPRN-CT-2002-00284</td>\n",
       "      <td>SMART SYSTEMS</td>\n",
       "      <td>participant</td>\n",
       "      <td>NaN</td>\n",
       "      <td>UNIVERSIDADE DE SANTIAGO DE COMPOSTELA</td>\n",
       "      <td>NaN</td>\n",
       "      <td>NaN</td>\n",
       "      <td>NaN</td>\n",
       "      <td>NaN</td>\n",
       "      <td>...</td>\n",
       "      <td>NaN</td>\n",
       "      <td>NaN</td>\n",
       "      <td>NaN</td>\n",
       "      <td>NaN</td>\n",
       "      <td>NaN</td>\n",
       "      <td>NaN</td>\n",
       "      <td>NaN</td>\n",
       "      <td>NaN</td>\n",
       "      <td>NaN</td>\n",
       "      <td>NaN</td>\n",
       "    </tr>\n",
       "    <tr>\n",
       "      <th>1</th>\n",
       "      <td>67894</td>\n",
       "      <td>HPRN-CT-2002-00284</td>\n",
       "      <td>SMART SYSTEMS</td>\n",
       "      <td>participant</td>\n",
       "      <td>NaN</td>\n",
       "      <td>INSTITUT NATIONAL DE RECHERCHE EN INFORMATIQUE...</td>\n",
       "      <td>NaN</td>\n",
       "      <td>NaN</td>\n",
       "      <td>NaN</td>\n",
       "      <td>NaN</td>\n",
       "      <td>...</td>\n",
       "      <td>NaN</td>\n",
       "      <td>NaN</td>\n",
       "      <td>NaN</td>\n",
       "      <td>NaN</td>\n",
       "      <td>NaN</td>\n",
       "      <td>NaN</td>\n",
       "      <td>NaN</td>\n",
       "      <td>NaN</td>\n",
       "      <td>NaN</td>\n",
       "      <td>NaN</td>\n",
       "    </tr>\n",
       "    <tr>\n",
       "      <th>2</th>\n",
       "      <td>67894</td>\n",
       "      <td>HPRN-CT-2002-00284</td>\n",
       "      <td>SMART SYSTEMS</td>\n",
       "      <td>participant</td>\n",
       "      <td>NaN</td>\n",
       "      <td>INSTITUTO SUPERIOR TECNICO</td>\n",
       "      <td>NaN</td>\n",
       "      <td>NaN</td>\n",
       "      <td>NaN</td>\n",
       "      <td>NaN</td>\n",
       "      <td>...</td>\n",
       "      <td>NaN</td>\n",
       "      <td>NaN</td>\n",
       "      <td>NaN</td>\n",
       "      <td>NaN</td>\n",
       "      <td>NaN</td>\n",
       "      <td>NaN</td>\n",
       "      <td>NaN</td>\n",
       "      <td>NaN</td>\n",
       "      <td>NaN</td>\n",
       "      <td>NaN</td>\n",
       "    </tr>\n",
       "    <tr>\n",
       "      <th>3</th>\n",
       "      <td>67894</td>\n",
       "      <td>HPRN-CT-2002-00284</td>\n",
       "      <td>SMART SYSTEMS</td>\n",
       "      <td>participant</td>\n",
       "      <td>NaN</td>\n",
       "      <td>ARISTOTLE UNIVERSITY OF THESSALONIKI</td>\n",
       "      <td>NaN</td>\n",
       "      <td>NaN</td>\n",
       "      <td>NaN</td>\n",
       "      <td>NaN</td>\n",
       "      <td>...</td>\n",
       "      <td>THESSALONIKI</td>\n",
       "      <td>54006</td>\n",
       "      <td>NaN</td>\n",
       "      <td>NaN</td>\n",
       "      <td>NaN</td>\n",
       "      <td>NaN</td>\n",
       "      <td>NaN</td>\n",
       "      <td>NaN</td>\n",
       "      <td>NaN</td>\n",
       "      <td>NaN</td>\n",
       "    </tr>\n",
       "    <tr>\n",
       "      <th>4</th>\n",
       "      <td>67894</td>\n",
       "      <td>HPRN-CT-2002-00284</td>\n",
       "      <td>SMART SYSTEMS</td>\n",
       "      <td>participant</td>\n",
       "      <td>NaN</td>\n",
       "      <td>NATIONAL RESEARCH COUNCIL OF ITALY</td>\n",
       "      <td>NaN</td>\n",
       "      <td>NaN</td>\n",
       "      <td>NaN</td>\n",
       "      <td>NaN</td>\n",
       "      <td>...</td>\n",
       "      <td>NaN</td>\n",
       "      <td>NaN</td>\n",
       "      <td>NaN</td>\n",
       "      <td>NaN</td>\n",
       "      <td>NaN</td>\n",
       "      <td>NaN</td>\n",
       "      <td>NaN</td>\n",
       "      <td>NaN</td>\n",
       "      <td>NaN</td>\n",
       "      <td>NaN</td>\n",
       "    </tr>\n",
       "  </tbody>\n",
       "</table>\n",
       "<p>5 rows × 24 columns</p>\n",
       "</div>"
      ],
      "text/plain": [
       "   projectRcn           projectID projectAcronym         role   id  \\\n",
       "0       67894  HPRN-CT-2002-00284  SMART SYSTEMS  participant  NaN   \n",
       "1       67894  HPRN-CT-2002-00284  SMART SYSTEMS  participant  NaN   \n",
       "2       67894  HPRN-CT-2002-00284  SMART SYSTEMS  participant  NaN   \n",
       "3       67894  HPRN-CT-2002-00284  SMART SYSTEMS  participant  NaN   \n",
       "4       67894  HPRN-CT-2002-00284  SMART SYSTEMS  participant  NaN   \n",
       "\n",
       "                                                name shortName activityType  \\\n",
       "0             UNIVERSIDADE DE SANTIAGO DE COMPOSTELA       NaN          NaN   \n",
       "1  INSTITUT NATIONAL DE RECHERCHE EN INFORMATIQUE...       NaN          NaN   \n",
       "2                         INSTITUTO SUPERIOR TECNICO       NaN          NaN   \n",
       "3               ARISTOTLE UNIVERSITY OF THESSALONIKI       NaN          NaN   \n",
       "4                 NATIONAL RESEARCH COUNCIL OF ITALY       NaN          NaN   \n",
       "\n",
       "  endOfParticipation ecContribution  ... organizationUrl vatNumber  \\\n",
       "0                NaN            NaN  ...             NaN       NaN   \n",
       "1                NaN            NaN  ...             NaN       NaN   \n",
       "2                NaN            NaN  ...             NaN       NaN   \n",
       "3                NaN            NaN  ...    THESSALONIKI     54006   \n",
       "4                NaN            NaN  ...             NaN       NaN   \n",
       "\n",
       "  contactForm contactType contactTitle contactFirstNames contactLastNames  \\\n",
       "0         NaN         NaN          NaN               NaN              NaN   \n",
       "1         NaN         NaN          NaN               NaN              NaN   \n",
       "2         NaN         NaN          NaN               NaN              NaN   \n",
       "3         NaN         NaN          NaN               NaN              NaN   \n",
       "4         NaN         NaN          NaN               NaN              NaN   \n",
       "\n",
       "  contactFunction  contactTelephoneNumber  contactFaxNumber  \n",
       "0             NaN                     NaN               NaN  \n",
       "1             NaN                     NaN               NaN  \n",
       "2             NaN                     NaN               NaN  \n",
       "3             NaN                     NaN               NaN  \n",
       "4             NaN                     NaN               NaN  \n",
       "\n",
       "[5 rows x 24 columns]"
      ]
     },
     "execution_count": 4,
     "metadata": {},
     "output_type": "execute_result"
    }
   ],
   "source": [
    "data.head()"
   ]
  },
  {
   "cell_type": "code",
   "execution_count": 5,
   "metadata": {},
   "outputs": [
    {
     "data": {
      "text/plain": [
       "projectRcn                    0\n",
       "projectID                     0\n",
       "projectAcronym              883\n",
       "role                          0\n",
       "id                        16848\n",
       "name                        114\n",
       "shortName                 15565\n",
       "activityType              16790\n",
       "endOfParticipation        16879\n",
       "ecContribution            16890\n",
       "country                     924\n",
       "street                      638\n",
       "city                        194\n",
       "postCode                    883\n",
       "organizationUrl           11813\n",
       "vatNumber                 16036\n",
       "contactForm               16767\n",
       "contactType               16881\n",
       "contactTitle              16890\n",
       "contactFirstNames         16891\n",
       "contactLastNames          16891\n",
       "contactFunction           16891\n",
       "contactTelephoneNumber    16891\n",
       "contactFaxNumber          16891\n",
       "dtype: int64"
      ]
     },
     "execution_count": 5,
     "metadata": {},
     "output_type": "execute_result"
    }
   ],
   "source": [
    "data.isnull().sum()"
   ]
  },
  {
   "cell_type": "code",
   "execution_count": 6,
   "metadata": {},
   "outputs": [
    {
     "data": {
      "text/plain": [
       "<AxesSubplot:>"
      ]
     },
     "execution_count": 6,
     "metadata": {},
     "output_type": "execute_result"
    },
    {
     "data": {
      "image/png": "[encoded data removed]",
      "text/plain": [
       "<Figure size 432x288 with 2 Axes>"
      ]
     },
     "metadata": {
      "needs_background": "light"
     },
     "output_type": "display_data"
    }
   ],
   "source": [
    "sns.heatmap(data.isnull())"
   ]
  },
  {
   "cell_type": "code",
   "execution_count": 7,
   "metadata": {},
   "outputs": [],
   "source": [
    "data.drop('id', axis =1, inplace = True)\n",
    "data.drop('shortName', axis =1, inplace = True)\n",
    "data.drop('activityType', axis =1, inplace = True)\n",
    "data.drop('endOfParticipation', axis =1, inplace = True)\n",
    "data.drop('ecContribution', axis =1, inplace = True)\n",
    "data.drop('organizationUrl', axis =1, inplace = True)\n",
    "data.drop('vatNumber', axis =1, inplace = True)\n",
    "data.drop('contactForm', axis =1, inplace = True)\n",
    "data.drop('contactType', axis =1, inplace = True)\n",
    "data.drop('contactTitle', axis =1, inplace = True)\n",
    "data.drop('contactFirstNames', axis =1, inplace = True)\n",
    "data.drop('contactLastNames', axis =1, inplace = True)\n",
    "data.drop('contactFunction', axis =1, inplace = True)\n",
    "data.drop('contactTelephoneNumber', axis =1, inplace = True)\n",
    "data.drop('contactFaxNumber', axis =1, inplace = True)"
   ]
  },
  {
   "cell_type": "code",
   "execution_count": 8,
   "metadata": {},
   "outputs": [],
   "source": [
    "data = data[~data['postCode'].str.contains(\"[a-zA-Z]\").fillna(False)]"
   ]
  },
  {
   "cell_type": "code",
   "execution_count": 9,
   "metadata": {},
   "outputs": [
    {
     "data": {
      "text/plain": [
       "<AxesSubplot:>"
      ]
     },
     "execution_count": 9,
     "metadata": {},
     "output_type": "execute_result"
    },
    {
     "data": {
      "image/png": "[encoded data removed]",
      "text/plain": [
       "<Figure size 432x288 with 2 Axes>"
      ]
     },
     "metadata": {
      "needs_background": "light"
     },
     "output_type": "display_data"
    }
   ],
   "source": [
    "sns.heatmap(data.isnull())"
   ]
  },
  {
   "cell_type": "code",
   "execution_count": 10,
   "metadata": {},
   "outputs": [
    {
     "name": "stdout",
     "output_type": "stream",
     "text": [
      "<class 'pandas.core.frame.DataFrame'>\n",
      "Int64Index: 10341 entries, 0 to 16887\n",
      "Data columns (total 9 columns):\n",
      " #   Column          Non-Null Count  Dtype \n",
      "---  ------          --------------  ----- \n",
      " 0   projectRcn      10341 non-null  int64 \n",
      " 1   projectID       10341 non-null  object\n",
      " 2   projectAcronym  9838 non-null   object\n",
      " 3   role            10341 non-null  object\n",
      " 4   name            10260 non-null  object\n",
      " 5   country         10204 non-null  object\n",
      " 6   street          9875 non-null   object\n",
      " 7   city            10172 non-null  object\n",
      " 8   postCode        9458 non-null   object\n",
      "dtypes: int64(1), object(8)\n",
      "memory usage: 807.9+ KB\n"
     ]
    }
   ],
   "source": [
    "data.info()"
   ]
  },
  {
   "cell_type": "code",
   "execution_count": 11,
   "metadata": {},
   "outputs": [
    {
     "data": {
      "text/html": [
       "<div>\n",
       "<style scoped>\n",
       "    .dataframe tbody tr th:only-of-type {\n",
       "        vertical-align: middle;\n",
       "    }\n",
       "\n",
       "    .dataframe tbody tr th {\n",
       "        vertical-align: top;\n",
       "    }\n",
       "\n",
       "    .dataframe thead th {\n",
       "        text-align: right;\n",
       "    }\n",
       "</style>\n",
       "<table border=\"1\" class=\"dataframe\">\n",
       "  <thead>\n",
       "    <tr style=\"text-align: right;\">\n",
       "      <th></th>\n",
       "      <th>projectRcn</th>\n",
       "      <th>projectID</th>\n",
       "      <th>projectAcronym</th>\n",
       "      <th>role</th>\n",
       "      <th>name</th>\n",
       "      <th>country</th>\n",
       "      <th>street</th>\n",
       "      <th>city</th>\n",
       "      <th>postCode</th>\n",
       "    </tr>\n",
       "  </thead>\n",
       "  <tbody>\n",
       "    <tr>\n",
       "      <th>count</th>\n",
       "      <td>10341.000000</td>\n",
       "      <td>10341</td>\n",
       "      <td>9838</td>\n",
       "      <td>10341</td>\n",
       "      <td>10260</td>\n",
       "      <td>10204</td>\n",
       "      <td>9875</td>\n",
       "      <td>10172</td>\n",
       "      <td>9458</td>\n",
       "    </tr>\n",
       "    <tr>\n",
       "      <th>unique</th>\n",
       "      <td>NaN</td>\n",
       "      <td>2274</td>\n",
       "      <td>2058</td>\n",
       "      <td>10</td>\n",
       "      <td>5841</td>\n",
       "      <td>107</td>\n",
       "      <td>6685</td>\n",
       "      <td>2544</td>\n",
       "      <td>3707</td>\n",
       "    </tr>\n",
       "    <tr>\n",
       "      <th>top</th>\n",
       "      <td>NaN</td>\n",
       "      <td>IST-2000-26048</td>\n",
       "      <td>EURON</td>\n",
       "      <td>participant</td>\n",
       "      <td>CENTRE NATIONAL DE LA RECHERCHE SCIENTIFIQUE</td>\n",
       "      <td>DE</td>\n",
       "      <td>HANSASTRASSE 27C</td>\n",
       "      <td>ROMA</td>\n",
       "      <td>1000</td>\n",
       "    </tr>\n",
       "    <tr>\n",
       "      <th>freq</th>\n",
       "      <td>NaN</td>\n",
       "      <td>95</td>\n",
       "      <td>95</td>\n",
       "      <td>8792</td>\n",
       "      <td>125</td>\n",
       "      <td>2018</td>\n",
       "      <td>53</td>\n",
       "      <td>251</td>\n",
       "      <td>80</td>\n",
       "    </tr>\n",
       "    <tr>\n",
       "      <th>mean</th>\n",
       "      <td>61879.816749</td>\n",
       "      <td>NaN</td>\n",
       "      <td>NaN</td>\n",
       "      <td>NaN</td>\n",
       "      <td>NaN</td>\n",
       "      <td>NaN</td>\n",
       "      <td>NaN</td>\n",
       "      <td>NaN</td>\n",
       "      <td>NaN</td>\n",
       "    </tr>\n",
       "    <tr>\n",
       "      <th>std</th>\n",
       "      <td>5659.025379</td>\n",
       "      <td>NaN</td>\n",
       "      <td>NaN</td>\n",
       "      <td>NaN</td>\n",
       "      <td>NaN</td>\n",
       "      <td>NaN</td>\n",
       "      <td>NaN</td>\n",
       "      <td>NaN</td>\n",
       "      <td>NaN</td>\n",
       "    </tr>\n",
       "    <tr>\n",
       "      <th>min</th>\n",
       "      <td>51164.000000</td>\n",
       "      <td>NaN</td>\n",
       "      <td>NaN</td>\n",
       "      <td>NaN</td>\n",
       "      <td>NaN</td>\n",
       "      <td>NaN</td>\n",
       "      <td>NaN</td>\n",
       "      <td>NaN</td>\n",
       "      <td>NaN</td>\n",
       "    </tr>\n",
       "    <tr>\n",
       "      <th>25%</th>\n",
       "      <td>57419.000000</td>\n",
       "      <td>NaN</td>\n",
       "      <td>NaN</td>\n",
       "      <td>NaN</td>\n",
       "      <td>NaN</td>\n",
       "      <td>NaN</td>\n",
       "      <td>NaN</td>\n",
       "      <td>NaN</td>\n",
       "      <td>NaN</td>\n",
       "    </tr>\n",
       "    <tr>\n",
       "      <th>50%</th>\n",
       "      <td>60720.000000</td>\n",
       "      <td>NaN</td>\n",
       "      <td>NaN</td>\n",
       "      <td>NaN</td>\n",
       "      <td>NaN</td>\n",
       "      <td>NaN</td>\n",
       "      <td>NaN</td>\n",
       "      <td>NaN</td>\n",
       "      <td>NaN</td>\n",
       "    </tr>\n",
       "    <tr>\n",
       "      <th>75%</th>\n",
       "      <td>68957.000000</td>\n",
       "      <td>NaN</td>\n",
       "      <td>NaN</td>\n",
       "      <td>NaN</td>\n",
       "      <td>NaN</td>\n",
       "      <td>NaN</td>\n",
       "      <td>NaN</td>\n",
       "      <td>NaN</td>\n",
       "      <td>NaN</td>\n",
       "    </tr>\n",
       "    <tr>\n",
       "      <th>max</th>\n",
       "      <td>71646.000000</td>\n",
       "      <td>NaN</td>\n",
       "      <td>NaN</td>\n",
       "      <td>NaN</td>\n",
       "      <td>NaN</td>\n",
       "      <td>NaN</td>\n",
       "      <td>NaN</td>\n",
       "      <td>NaN</td>\n",
       "      <td>NaN</td>\n",
       "    </tr>\n",
       "  </tbody>\n",
       "</table>\n",
       "</div>"
      ],
      "text/plain": [
       "          projectRcn       projectID projectAcronym         role  \\\n",
       "count   10341.000000           10341           9838        10341   \n",
       "unique           NaN            2274           2058           10   \n",
       "top              NaN  IST-2000-26048          EURON  participant   \n",
       "freq             NaN              95             95         8792   \n",
       "mean    61879.816749             NaN            NaN          NaN   \n",
       "std      5659.025379             NaN            NaN          NaN   \n",
       "min     51164.000000             NaN            NaN          NaN   \n",
       "25%     57419.000000             NaN            NaN          NaN   \n",
       "50%     60720.000000             NaN            NaN          NaN   \n",
       "75%     68957.000000             NaN            NaN          NaN   \n",
       "max     71646.000000             NaN            NaN          NaN   \n",
       "\n",
       "                                                name country  \\\n",
       "count                                          10260   10204   \n",
       "unique                                          5841     107   \n",
       "top     CENTRE NATIONAL DE LA RECHERCHE SCIENTIFIQUE      DE   \n",
       "freq                                             125    2018   \n",
       "mean                                             NaN     NaN   \n",
       "std                                              NaN     NaN   \n",
       "min                                              NaN     NaN   \n",
       "25%                                              NaN     NaN   \n",
       "50%                                              NaN     NaN   \n",
       "75%                                              NaN     NaN   \n",
       "max                                              NaN     NaN   \n",
       "\n",
       "                  street   city postCode  \n",
       "count               9875  10172     9458  \n",
       "unique              6685   2544     3707  \n",
       "top     HANSASTRASSE 27C   ROMA     1000  \n",
       "freq                  53    251       80  \n",
       "mean                 NaN    NaN      NaN  \n",
       "std                  NaN    NaN      NaN  \n",
       "min                  NaN    NaN      NaN  \n",
       "25%                  NaN    NaN      NaN  \n",
       "50%                  NaN    NaN      NaN  \n",
       "75%                  NaN    NaN      NaN  \n",
       "max                  NaN    NaN      NaN  "
      ]
     },
     "execution_count": 11,
     "metadata": {},
     "output_type": "execute_result"
    }
   ],
   "source": [
    "data.describe(include = 'all')"
   ]
  },
  {
   "cell_type": "code",
   "execution_count": 12,
   "metadata": {},
   "outputs": [
    {
     "name": "stdout",
     "output_type": "stream",
     "text": [
      "Index(['projectRcn', 'projectID', 'projectAcronym', 'role', 'name', 'country',\n",
      "       'street', 'city', 'postCode'],\n",
      "      dtype='object')\n",
      "9\n"
     ]
    }
   ],
   "source": [
    "print(data.columns)\n",
    "print(len(data.columns))"
   ]
  },
  {
   "cell_type": "markdown",
   "metadata": {},
   "source": [
    "## Analysis part begins from here"
   ]
  },
  {
   "cell_type": "code",
   "execution_count": 13,
   "metadata": {},
   "outputs": [],
   "source": [
    "# 1. how many different types of roles are there and what are top roles"
   ]
  },
  {
   "cell_type": "code",
   "execution_count": 14,
   "metadata": {
    "scrolled": true
   },
   "outputs": [
    {
     "data": {
      "text/plain": [
       "array(['participant', 'coordinator', ' CLAUDIO', ' STEFAN', ' ANNEMIE',\n",
       "       ' KATHARINA', ' SARAH FRANCE', ' ULRIKE', ' ROBERT',\n",
       "       ' GESINE 09/10/1'], dtype=object)"
      ]
     },
     "execution_count": 14,
     "metadata": {},
     "output_type": "execute_result"
    }
   ],
   "source": [
    "data['role'].unique()"
   ]
  },
  {
   "cell_type": "code",
   "execution_count": 15,
   "metadata": {},
   "outputs": [],
   "source": [
    "role = data.groupby('role')[['role']].count()"
   ]
  },
  {
   "cell_type": "code",
   "execution_count": 16,
   "metadata": {
    "scrolled": true
   },
   "outputs": [
    {
     "data": {
      "text/html": [
       "<div>\n",
       "<style scoped>\n",
       "    .dataframe tbody tr th:only-of-type {\n",
       "        vertical-align: middle;\n",
       "    }\n",
       "\n",
       "    .dataframe tbody tr th {\n",
       "        vertical-align: top;\n",
       "    }\n",
       "\n",
       "    .dataframe thead th {\n",
       "        text-align: right;\n",
       "    }\n",
       "</style>\n",
       "<table border=\"1\" class=\"dataframe\">\n",
       "  <thead>\n",
       "    <tr style=\"text-align: right;\">\n",
       "      <th></th>\n",
       "      <th>role</th>\n",
       "    </tr>\n",
       "    <tr>\n",
       "      <th>role</th>\n",
       "      <th></th>\n",
       "    </tr>\n",
       "  </thead>\n",
       "  <tbody>\n",
       "    <tr>\n",
       "      <th>ANNEMIE</th>\n",
       "      <td>1</td>\n",
       "    </tr>\n",
       "    <tr>\n",
       "      <th>CLAUDIO</th>\n",
       "      <td>1</td>\n",
       "    </tr>\n",
       "    <tr>\n",
       "      <th>GESINE 09/10/1</th>\n",
       "      <td>1</td>\n",
       "    </tr>\n",
       "    <tr>\n",
       "      <th>KATHARINA</th>\n",
       "      <td>1</td>\n",
       "    </tr>\n",
       "    <tr>\n",
       "      <th>ROBERT</th>\n",
       "      <td>1</td>\n",
       "    </tr>\n",
       "    <tr>\n",
       "      <th>SARAH FRANCE</th>\n",
       "      <td>1</td>\n",
       "    </tr>\n",
       "    <tr>\n",
       "      <th>STEFAN</th>\n",
       "      <td>1</td>\n",
       "    </tr>\n",
       "    <tr>\n",
       "      <th>ULRIKE</th>\n",
       "      <td>1</td>\n",
       "    </tr>\n",
       "    <tr>\n",
       "      <th>coordinator</th>\n",
       "      <td>1541</td>\n",
       "    </tr>\n",
       "    <tr>\n",
       "      <th>participant</th>\n",
       "      <td>8792</td>\n",
       "    </tr>\n",
       "  </tbody>\n",
       "</table>\n",
       "</div>"
      ],
      "text/plain": [
       "                 role\n",
       "role                 \n",
       " ANNEMIE            1\n",
       " CLAUDIO            1\n",
       " GESINE 09/10/1     1\n",
       " KATHARINA          1\n",
       " ROBERT             1\n",
       " SARAH FRANCE       1\n",
       " STEFAN             1\n",
       " ULRIKE             1\n",
       "coordinator      1541\n",
       "participant      8792"
      ]
     },
     "execution_count": 16,
     "metadata": {},
     "output_type": "execute_result"
    }
   ],
   "source": [
    "role"
   ]
  },
  {
   "cell_type": "code",
   "execution_count": 17,
   "metadata": {},
   "outputs": [
    {
     "data": {
      "image/png": "[encoded data removed]",
      "text/plain": [
       "<Figure size 432x288 with 1 Axes>"
      ]
     },
     "metadata": {},
     "output_type": "display_data"
    }
   ],
   "source": [
    "value = [1,1,1,1,1,1,1,1,1,1]\n",
    "plt.pie(value,labels=role.index,autopct='%1.1f%%')\n",
    "plt.axis('equal')\n",
    "plt.show()"
   ]
  },
  {
   "cell_type": "code",
   "execution_count": 18,
   "metadata": {},
   "outputs": [],
   "source": [
    "# 2. What is the coordinator to participant ratio"
   ]
  },
  {
   "cell_type": "code",
   "execution_count": 19,
   "metadata": {},
   "outputs": [],
   "source": [
    "role.index = role.index.set_names(['Role'])\n",
    "role = role.rename(columns = {'role' : 'Count'})\n",
    "role.reset_index(inplace = True)"
   ]
  },
  {
   "cell_type": "code",
   "execution_count": 20,
   "metadata": {
    "scrolled": true
   },
   "outputs": [],
   "source": [
    "scaler = role.loc[(role['Role'] == 'participant') | (role['Role'] == 'coordinator'), ['Count']]"
   ]
  },
  {
   "cell_type": "code",
   "execution_count": 21,
   "metadata": {},
   "outputs": [
    {
     "data": {
      "text/html": [
       "<div>\n",
       "<style scoped>\n",
       "    .dataframe tbody tr th:only-of-type {\n",
       "        vertical-align: middle;\n",
       "    }\n",
       "\n",
       "    .dataframe tbody tr th {\n",
       "        vertical-align: top;\n",
       "    }\n",
       "\n",
       "    .dataframe thead th {\n",
       "        text-align: right;\n",
       "    }\n",
       "</style>\n",
       "<table border=\"1\" class=\"dataframe\">\n",
       "  <thead>\n",
       "    <tr style=\"text-align: right;\">\n",
       "      <th></th>\n",
       "      <th>Count</th>\n",
       "    </tr>\n",
       "  </thead>\n",
       "  <tbody>\n",
       "    <tr>\n",
       "      <th>8</th>\n",
       "      <td>1541</td>\n",
       "    </tr>\n",
       "    <tr>\n",
       "      <th>9</th>\n",
       "      <td>8792</td>\n",
       "    </tr>\n",
       "  </tbody>\n",
       "</table>\n",
       "</div>"
      ],
      "text/plain": [
       "   Count\n",
       "8   1541\n",
       "9   8792"
      ]
     },
     "execution_count": 21,
     "metadata": {},
     "output_type": "execute_result"
    }
   ],
   "source": [
    "scaler"
   ]
  },
  {
   "cell_type": "code",
   "execution_count": 22,
   "metadata": {},
   "outputs": [
    {
     "data": {
      "image/png": "[encoded data removed]",
      "text/plain": [
       "<Figure size 432x288 with 1 Axes>"
      ]
     },
     "metadata": {},
     "output_type": "display_data"
    }
   ],
   "source": [
    "my_labels = ('participant','coordinator')\n",
    "plt.pie(scaler.Count,labels=my_labels,autopct='%1.1f%%')\n",
    "plt.title('Role Share')\n",
    "plt.axis('equal')\n",
    "plt.show()"
   ]
  },
  {
   "cell_type": "code",
   "execution_count": 23,
   "metadata": {},
   "outputs": [],
   "source": [
    "# 3. top 20 countries "
   ]
  },
  {
   "cell_type": "code",
   "execution_count": 25,
   "metadata": {},
   "outputs": [
    {
     "data": {
      "text/plain": [
       "DE    2018\n",
       "FR    1506\n",
       "IT    1459\n",
       "ES     669\n",
       "SE     477\n",
       "BE     471\n",
       "EL     436\n",
       "FI     307\n",
       "DK     301\n",
       "CH     287\n",
       "AT     282\n",
       "NO     238\n",
       "PL     224\n",
       "PT     185\n",
       "CZ     152\n",
       "HU     143\n",
       "IL      97\n",
       "UK      94\n",
       "NL      86\n",
       "IE      79\n",
       "Name: country, dtype: int64"
      ]
     },
     "execution_count": 25,
     "metadata": {},
     "output_type": "execute_result"
    }
   ],
   "source": [
    "a = data['country'].value_counts()[:20] \n",
    "b=a.index\n",
    "a"
   ]
  },
  {
   "cell_type": "code",
   "execution_count": 26,
   "metadata": {},
   "outputs": [
    {
     "data": {
      "text/plain": [
       "Index(['DE', 'FR', 'IT', 'ES', 'SE', 'BE', 'EL', 'FI', 'DK', 'CH', 'AT', 'NO',\n",
       "       'PL', 'PT', 'CZ', 'HU', 'IL', 'UK', 'NL', 'IE'],\n",
       "      dtype='object')"
      ]
     },
     "execution_count": 26,
     "metadata": {},
     "output_type": "execute_result"
    }
   ],
   "source": [
    "b"
   ]
  },
  {
   "cell_type": "code",
   "execution_count": 27,
   "metadata": {},
   "outputs": [
    {
     "data": {
      "text/plain": [
       "list"
      ]
     },
     "execution_count": 27,
     "metadata": {},
     "output_type": "execute_result"
    }
   ],
   "source": [
    "cordis_countries = list(b)\n",
    "type(cordis_countries)"
   ]
  },
  {
   "cell_type": "code",
   "execution_count": 28,
   "metadata": {},
   "outputs": [
    {
     "data": {
      "text/plain": [
       "Text(0, 0.5, 'Total No. of Approved projects')"
      ]
     },
     "execution_count": 28,
     "metadata": {},
     "output_type": "execute_result"
    },
    {
     "data": {
      "image/png": "[encoded data removed]",
      "text/plain": [
       "<Figure size 720x504 with 1 Axes>"
      ]
     },
     "metadata": {
      "needs_background": "light"
     },
     "output_type": "display_data"
    }
   ],
   "source": [
    "plt.figure(figsize=(10,7))\n",
    "for i,v in enumerate(a):\n",
    "    plt.text(i,v,v, color='blue', fontweight='bold')\n",
    "sns.barplot(x=a.index,y=a,orient='v')\n",
    "plt.xticks(rotation=90,fontsize=12,)\n",
    "plt.title('Top 20 Countries',fontsize=20)\n",
    "plt.xlabel('Countries',fontsize=15)\n",
    "plt.ylabel('Total No. of Approved projects',fontsize=14)"
   ]
  },
  {
   "cell_type": "code",
   "execution_count": 29,
   "metadata": {},
   "outputs": [],
   "source": [
    "# 4.  top 20 countries which contributed from maximum number of states"
   ]
  },
  {
   "cell_type": "code",
   "execution_count": 30,
   "metadata": {},
   "outputs": [],
   "source": [
    "city_count = data.groupby('country')[['city']].count().sort_values(by = 'city', ascending  = False)[:20]"
   ]
  },
  {
   "cell_type": "code",
   "execution_count": 31,
   "metadata": {},
   "outputs": [
    {
     "data": {
      "text/html": [
       "<div>\n",
       "<style scoped>\n",
       "    .dataframe tbody tr th:only-of-type {\n",
       "        vertical-align: middle;\n",
       "    }\n",
       "\n",
       "    .dataframe tbody tr th {\n",
       "        vertical-align: top;\n",
       "    }\n",
       "\n",
       "    .dataframe thead th {\n",
       "        text-align: right;\n",
       "    }\n",
       "</style>\n",
       "<table border=\"1\" class=\"dataframe\">\n",
       "  <thead>\n",
       "    <tr style=\"text-align: right;\">\n",
       "      <th></th>\n",
       "      <th>city</th>\n",
       "    </tr>\n",
       "    <tr>\n",
       "      <th>country</th>\n",
       "      <th></th>\n",
       "    </tr>\n",
       "  </thead>\n",
       "  <tbody>\n",
       "    <tr>\n",
       "      <th>DE</th>\n",
       "      <td>2005</td>\n",
       "    </tr>\n",
       "    <tr>\n",
       "      <th>FR</th>\n",
       "      <td>1498</td>\n",
       "    </tr>\n",
       "    <tr>\n",
       "      <th>IT</th>\n",
       "      <td>1456</td>\n",
       "    </tr>\n",
       "    <tr>\n",
       "      <th>ES</th>\n",
       "      <td>664</td>\n",
       "    </tr>\n",
       "    <tr>\n",
       "      <th>SE</th>\n",
       "      <td>471</td>\n",
       "    </tr>\n",
       "    <tr>\n",
       "      <th>BE</th>\n",
       "      <td>467</td>\n",
       "    </tr>\n",
       "    <tr>\n",
       "      <th>EL</th>\n",
       "      <td>434</td>\n",
       "    </tr>\n",
       "    <tr>\n",
       "      <th>FI</th>\n",
       "      <td>302</td>\n",
       "    </tr>\n",
       "    <tr>\n",
       "      <th>DK</th>\n",
       "      <td>299</td>\n",
       "    </tr>\n",
       "    <tr>\n",
       "      <th>CH</th>\n",
       "      <td>287</td>\n",
       "    </tr>\n",
       "    <tr>\n",
       "      <th>AT</th>\n",
       "      <td>279</td>\n",
       "    </tr>\n",
       "    <tr>\n",
       "      <th>NO</th>\n",
       "      <td>236</td>\n",
       "    </tr>\n",
       "    <tr>\n",
       "      <th>PL</th>\n",
       "      <td>224</td>\n",
       "    </tr>\n",
       "    <tr>\n",
       "      <th>PT</th>\n",
       "      <td>182</td>\n",
       "    </tr>\n",
       "    <tr>\n",
       "      <th>CZ</th>\n",
       "      <td>151</td>\n",
       "    </tr>\n",
       "    <tr>\n",
       "      <th>HU</th>\n",
       "      <td>143</td>\n",
       "    </tr>\n",
       "    <tr>\n",
       "      <th>IL</th>\n",
       "      <td>96</td>\n",
       "    </tr>\n",
       "    <tr>\n",
       "      <th>UK</th>\n",
       "      <td>91</td>\n",
       "    </tr>\n",
       "    <tr>\n",
       "      <th>IE</th>\n",
       "      <td>79</td>\n",
       "    </tr>\n",
       "    <tr>\n",
       "      <th>SI</th>\n",
       "      <td>78</td>\n",
       "    </tr>\n",
       "  </tbody>\n",
       "</table>\n",
       "</div>"
      ],
      "text/plain": [
       "         city\n",
       "country      \n",
       "DE       2005\n",
       "FR       1498\n",
       "IT       1456\n",
       "ES        664\n",
       "SE        471\n",
       "BE        467\n",
       "EL        434\n",
       "FI        302\n",
       "DK        299\n",
       "CH        287\n",
       "AT        279\n",
       "NO        236\n",
       "PL        224\n",
       "PT        182\n",
       "CZ        151\n",
       "HU        143\n",
       "IL         96\n",
       "UK         91\n",
       "IE         79\n",
       "SI         78"
      ]
     },
     "execution_count": 31,
     "metadata": {},
     "output_type": "execute_result"
    }
   ],
   "source": [
    "city_count"
   ]
  },
  {
   "cell_type": "code",
   "execution_count": 32,
   "metadata": {},
   "outputs": [
    {
     "data": {
      "text/plain": [
       "Text(0, 0.5, 'Total No. of cities')"
      ]
     },
     "execution_count": 32,
     "metadata": {},
     "output_type": "execute_result"
    },
    {
     "data": {
      "image/png": "[encoded data removed]",
      "text/plain": [
       "<Figure size 720x504 with 1 Axes>"
      ]
     },
     "metadata": {
      "needs_background": "light"
     },
     "output_type": "display_data"
    }
   ],
   "source": [
    "plt.figure(figsize=(10,7))\n",
    "for i,v in enumerate(a):\n",
    "    plt.text(i,v,v, color='blue', fontweight='bold')\n",
    "sns.barplot(y=city_count.city,x=city_count.index,orient='v')\n",
    "plt.xticks(rotation=90,fontsize=12,)\n",
    "plt.title('Top 20 Countries with different cities',fontsize=20)\n",
    "plt.xlabel('Countries',fontsize=15)\n",
    "plt.ylabel('Total No. of cities',fontsize=14)"
   ]
  },
  {
   "cell_type": "code",
   "execution_count": 33,
   "metadata": {},
   "outputs": [],
   "source": [
    "# 5. Which locality(street) is the major contributor in the cordis growth?"
   ]
  },
  {
   "cell_type": "code",
   "execution_count": 34,
   "metadata": {},
   "outputs": [],
   "source": [
    "a = data[['city','street']].value_counts()[:20]\n",
    "street_count = a.to_frame().reset_index().rename(columns={0 : 'Count'})"
   ]
  },
  {
   "cell_type": "code",
   "execution_count": 35,
   "metadata": {},
   "outputs": [
    {
     "data": {
      "text/html": [
       "<div>\n",
       "<style scoped>\n",
       "    .dataframe tbody tr th:only-of-type {\n",
       "        vertical-align: middle;\n",
       "    }\n",
       "\n",
       "    .dataframe tbody tr th {\n",
       "        vertical-align: top;\n",
       "    }\n",
       "\n",
       "    .dataframe thead th {\n",
       "        text-align: right;\n",
       "    }\n",
       "</style>\n",
       "<table border=\"1\" class=\"dataframe\">\n",
       "  <thead>\n",
       "    <tr style=\"text-align: right;\">\n",
       "      <th></th>\n",
       "      <th>city</th>\n",
       "      <th>street</th>\n",
       "      <th>Count</th>\n",
       "    </tr>\n",
       "  </thead>\n",
       "  <tbody>\n",
       "    <tr>\n",
       "      <th>0</th>\n",
       "      <td>MUENCHEN</td>\n",
       "      <td>HANSASTRASSE 27C</td>\n",
       "      <td>53</td>\n",
       "    </tr>\n",
       "    <tr>\n",
       "      <th>1</th>\n",
       "      <td>LE CHESNAY</td>\n",
       "      <td>DOMAINE DE VOLUCEAU</td>\n",
       "      <td>29</td>\n",
       "    </tr>\n",
       "    <tr>\n",
       "      <th>2</th>\n",
       "      <td>ROMA</td>\n",
       "      <td>PIAZZALE ALDO MORO 7</td>\n",
       "      <td>26</td>\n",
       "    </tr>\n",
       "    <tr>\n",
       "      <th>3</th>\n",
       "      <td>ROSKILDE</td>\n",
       "      <td>Frederiksborgvej 399</td>\n",
       "      <td>23</td>\n",
       "    </tr>\n",
       "    <tr>\n",
       "      <th>4</th>\n",
       "      <td>BARCELONA</td>\n",
       "      <td>JORDI GIRONA 31</td>\n",
       "      <td>21</td>\n",
       "    </tr>\n",
       "    <tr>\n",
       "      <th>5</th>\n",
       "      <td>MADRID</td>\n",
       "      <td>AVENIDA RAMIRO DE MAEZTU 7</td>\n",
       "      <td>21</td>\n",
       "    </tr>\n",
       "    <tr>\n",
       "      <th>6</th>\n",
       "      <td>MUENCHEN</td>\n",
       "      <td>WITTELSBACHERPLATZ 2</td>\n",
       "      <td>20</td>\n",
       "    </tr>\n",
       "    <tr>\n",
       "      <th>7</th>\n",
       "      <td>LAUSANNE</td>\n",
       "      <td>ECUBLENS</td>\n",
       "      <td>19</td>\n",
       "    </tr>\n",
       "    <tr>\n",
       "      <th>8</th>\n",
       "      <td>MOL</td>\n",
       "      <td>Boeretang 200</td>\n",
       "      <td>18</td>\n",
       "    </tr>\n",
       "    <tr>\n",
       "      <th>9</th>\n",
       "      <td>PARIS CEDEX 15</td>\n",
       "      <td>31-33 RUE DE LA FEDERATION</td>\n",
       "      <td>18</td>\n",
       "    </tr>\n",
       "    <tr>\n",
       "      <th>10</th>\n",
       "      <td>PARIS 15</td>\n",
       "      <td>6 PLACE D'ALLERAY</td>\n",
       "      <td>17</td>\n",
       "    </tr>\n",
       "    <tr>\n",
       "      <th>11</th>\n",
       "      <td>ERLANGEN</td>\n",
       "      <td>Freyeslebenstrasse 1</td>\n",
       "      <td>17</td>\n",
       "    </tr>\n",
       "    <tr>\n",
       "      <th>12</th>\n",
       "      <td>ATHENS</td>\n",
       "      <td>PATISSION STREET 42</td>\n",
       "      <td>17</td>\n",
       "    </tr>\n",
       "    <tr>\n",
       "      <th>13</th>\n",
       "      <td>LEUVEN</td>\n",
       "      <td>OUDE MARKT 13</td>\n",
       "      <td>16</td>\n",
       "    </tr>\n",
       "    <tr>\n",
       "      <th>14</th>\n",
       "      <td>STUTTGART</td>\n",
       "      <td>EPPLESTRASSE 225</td>\n",
       "      <td>15</td>\n",
       "    </tr>\n",
       "    <tr>\n",
       "      <th>15</th>\n",
       "      <td>MÜNCHEN</td>\n",
       "      <td>Tullastr. 72</td>\n",
       "      <td>15</td>\n",
       "    </tr>\n",
       "    <tr>\n",
       "      <th>16</th>\n",
       "      <td>OBERSCHLEISSHEIM</td>\n",
       "      <td>Ingolstaedter Landstrasse 1</td>\n",
       "      <td>15</td>\n",
       "    </tr>\n",
       "    <tr>\n",
       "      <th>17</th>\n",
       "      <td>LJUBLJANA</td>\n",
       "      <td>Jamova 39</td>\n",
       "      <td>15</td>\n",
       "    </tr>\n",
       "    <tr>\n",
       "      <th>18</th>\n",
       "      <td>ROMA</td>\n",
       "      <td>PIAZZALE ALDO MORO 5</td>\n",
       "      <td>15</td>\n",
       "    </tr>\n",
       "    <tr>\n",
       "      <th>19</th>\n",
       "      <td>ISPRA</td>\n",
       "      <td>VIA FERMI 1</td>\n",
       "      <td>14</td>\n",
       "    </tr>\n",
       "  </tbody>\n",
       "</table>\n",
       "</div>"
      ],
      "text/plain": [
       "                city                       street  Count\n",
       "0           MUENCHEN             HANSASTRASSE 27C     53\n",
       "1         LE CHESNAY          DOMAINE DE VOLUCEAU     29\n",
       "2               ROMA         PIAZZALE ALDO MORO 7     26\n",
       "3           ROSKILDE         Frederiksborgvej 399     23\n",
       "4          BARCELONA              JORDI GIRONA 31     21\n",
       "5             MADRID   AVENIDA RAMIRO DE MAEZTU 7     21\n",
       "6           MUENCHEN         WITTELSBACHERPLATZ 2     20\n",
       "7           LAUSANNE                     ECUBLENS     19\n",
       "8                MOL                Boeretang 200     18\n",
       "9     PARIS CEDEX 15   31-33 RUE DE LA FEDERATION     18\n",
       "10          PARIS 15            6 PLACE D'ALLERAY     17\n",
       "11          ERLANGEN         Freyeslebenstrasse 1     17\n",
       "12            ATHENS          PATISSION STREET 42     17\n",
       "13            LEUVEN                OUDE MARKT 13     16\n",
       "14         STUTTGART             EPPLESTRASSE 225     15\n",
       "15           MÜNCHEN                 Tullastr. 72     15\n",
       "16  OBERSCHLEISSHEIM  Ingolstaedter Landstrasse 1     15\n",
       "17         LJUBLJANA                    Jamova 39     15\n",
       "18              ROMA         PIAZZALE ALDO MORO 5     15\n",
       "19             ISPRA                  VIA FERMI 1     14"
      ]
     },
     "execution_count": 35,
     "metadata": {},
     "output_type": "execute_result"
    }
   ],
   "source": [
    "street_count"
   ]
  },
  {
   "cell_type": "code",
   "execution_count": 36,
   "metadata": {},
   "outputs": [],
   "source": [
    "x = street_count.street +' ('+ street_count.city + ')'"
   ]
  },
  {
   "cell_type": "code",
   "execution_count": 37,
   "metadata": {},
   "outputs": [
    {
     "data": {
      "text/plain": [
       "Text(0, 0.5, 'Total No. of cities')"
      ]
     },
     "execution_count": 37,
     "metadata": {},
     "output_type": "execute_result"
    },
    {
     "data": {
      "image/png": "[encoded data removed]",
      "text/plain": [
       "<Figure size 720x504 with 1 Axes>"
      ]
     },
     "metadata": {
      "needs_background": "light"
     },
     "output_type": "display_data"
    }
   ],
   "source": [
    "plt.figure(figsize=(10,7))\n",
    "for i,v in enumerate(a):\n",
    "    plt.text(i,v,v, color='blue', fontweight='bold')\n",
    "sns.barplot(y=street_count.Count,x=x,orient='v')\n",
    "plt.xticks(rotation=90,fontsize=12,)\n",
    "plt.title('Top 20 Countries with different cities',fontsize=20)\n",
    "plt.xlabel('Countries',fontsize=15)\n",
    "plt.ylabel('Total No. of cities',fontsize=14)"
   ]
  },
  {
   "cell_type": "code",
   "execution_count": 38,
   "metadata": {},
   "outputs": [],
   "source": [
    "# 6. max number of projects approved of a same name"
   ]
  },
  {
   "cell_type": "code",
   "execution_count": 39,
   "metadata": {},
   "outputs": [],
   "source": [
    "a = data[['name','postCode']].value_counts()[:20]\n",
    "name_count = a.to_frame().reset_index().rename(columns={0 : 'Count'}).drop(columns = ['postCode'])"
   ]
  },
  {
   "cell_type": "code",
   "execution_count": 40,
   "metadata": {},
   "outputs": [
    {
     "data": {
      "text/html": [
       "<div>\n",
       "<style scoped>\n",
       "    .dataframe tbody tr th:only-of-type {\n",
       "        vertical-align: middle;\n",
       "    }\n",
       "\n",
       "    .dataframe tbody tr th {\n",
       "        vertical-align: top;\n",
       "    }\n",
       "\n",
       "    .dataframe thead th {\n",
       "        text-align: right;\n",
       "    }\n",
       "</style>\n",
       "<table border=\"1\" class=\"dataframe\">\n",
       "  <thead>\n",
       "    <tr style=\"text-align: right;\">\n",
       "      <th></th>\n",
       "      <th>name</th>\n",
       "      <th>Count</th>\n",
       "    </tr>\n",
       "  </thead>\n",
       "  <tbody>\n",
       "    <tr>\n",
       "      <th>0</th>\n",
       "      <td>FRAUNHOFER GESELLSCHAFT ZUR FOERDERUNG DER ANG...</td>\n",
       "      <td>53</td>\n",
       "    </tr>\n",
       "    <tr>\n",
       "      <th>1</th>\n",
       "      <td>UNIVERSIDAD POLITECNICA DE MADRID</td>\n",
       "      <td>31</td>\n",
       "    </tr>\n",
       "    <tr>\n",
       "      <th>2</th>\n",
       "      <td>PAUL SCHERRER INSTITUT</td>\n",
       "      <td>30</td>\n",
       "    </tr>\n",
       "    <tr>\n",
       "      <th>3</th>\n",
       "      <td>INSTITUT NATIONAL DE RECHERCHE EN INFORMATIQUE...</td>\n",
       "      <td>29</td>\n",
       "    </tr>\n",
       "    <tr>\n",
       "      <th>4</th>\n",
       "      <td>COMMISSION OF THE EUROPEAN COMMUNITIES</td>\n",
       "      <td>26</td>\n",
       "    </tr>\n",
       "    <tr>\n",
       "      <th>5</th>\n",
       "      <td>CONSIGLIO NAZIONALE DELLE RICERCHE</td>\n",
       "      <td>25</td>\n",
       "    </tr>\n",
       "    <tr>\n",
       "      <th>6</th>\n",
       "      <td>NUCLEAR RESEARCH INSTITUTE REZ A.S.</td>\n",
       "      <td>24</td>\n",
       "    </tr>\n",
       "    <tr>\n",
       "      <th>7</th>\n",
       "      <td>KATHOLIEKE UNIVERSITEIT LEUVEN</td>\n",
       "      <td>24</td>\n",
       "    </tr>\n",
       "    <tr>\n",
       "      <th>8</th>\n",
       "      <td>GSF-RESEARCH CENTER FOR ENVIRONMENT AND HEALTH</td>\n",
       "      <td>22</td>\n",
       "    </tr>\n",
       "    <tr>\n",
       "      <th>9</th>\n",
       "      <td>UNIVERSITAT POLITECNICA DE CATALUNYA</td>\n",
       "      <td>21</td>\n",
       "    </tr>\n",
       "    <tr>\n",
       "      <th>10</th>\n",
       "      <td>RISOE NATIONAL LABORATORY</td>\n",
       "      <td>20</td>\n",
       "    </tr>\n",
       "    <tr>\n",
       "      <th>11</th>\n",
       "      <td>ECOLE POLYTECHNIQUE FEDERALE DE LAUSANNE</td>\n",
       "      <td>19</td>\n",
       "    </tr>\n",
       "    <tr>\n",
       "      <th>12</th>\n",
       "      <td>SIEMENS AKTIENGESELLSCHAFT</td>\n",
       "      <td>19</td>\n",
       "    </tr>\n",
       "    <tr>\n",
       "      <th>13</th>\n",
       "      <td>COMMISSARIAT A L'ENERGIE ATOMIQUE</td>\n",
       "      <td>18</td>\n",
       "    </tr>\n",
       "    <tr>\n",
       "      <th>14</th>\n",
       "      <td>DAIMLERCHRYSLER AG</td>\n",
       "      <td>18</td>\n",
       "    </tr>\n",
       "    <tr>\n",
       "      <th>15</th>\n",
       "      <td>CENTRE FOR RESEARCH AND TECHNOLOGY HELLAS</td>\n",
       "      <td>17</td>\n",
       "    </tr>\n",
       "    <tr>\n",
       "      <th>16</th>\n",
       "      <td>FRANCE TELECOM</td>\n",
       "      <td>17</td>\n",
       "    </tr>\n",
       "    <tr>\n",
       "      <th>17</th>\n",
       "      <td>LUND UNIVERSITY</td>\n",
       "      <td>17</td>\n",
       "    </tr>\n",
       "    <tr>\n",
       "      <th>18</th>\n",
       "      <td>INSTITUTE OF COMMUNICATION AND COMPUTER SYSTEMS</td>\n",
       "      <td>16</td>\n",
       "    </tr>\n",
       "    <tr>\n",
       "      <th>19</th>\n",
       "      <td>GKSS - FORSCHUNGSZENTRUM GEESTHACHT GMBH</td>\n",
       "      <td>16</td>\n",
       "    </tr>\n",
       "  </tbody>\n",
       "</table>\n",
       "</div>"
      ],
      "text/plain": [
       "                                                 name  Count\n",
       "0   FRAUNHOFER GESELLSCHAFT ZUR FOERDERUNG DER ANG...     53\n",
       "1                   UNIVERSIDAD POLITECNICA DE MADRID     31\n",
       "2                              PAUL SCHERRER INSTITUT     30\n",
       "3   INSTITUT NATIONAL DE RECHERCHE EN INFORMATIQUE...     29\n",
       "4              COMMISSION OF THE EUROPEAN COMMUNITIES     26\n",
       "5                  CONSIGLIO NAZIONALE DELLE RICERCHE     25\n",
       "6                 NUCLEAR RESEARCH INSTITUTE REZ A.S.     24\n",
       "7                      KATHOLIEKE UNIVERSITEIT LEUVEN     24\n",
       "8      GSF-RESEARCH CENTER FOR ENVIRONMENT AND HEALTH     22\n",
       "9                UNIVERSITAT POLITECNICA DE CATALUNYA     21\n",
       "10                          RISOE NATIONAL LABORATORY     20\n",
       "11           ECOLE POLYTECHNIQUE FEDERALE DE LAUSANNE     19\n",
       "12                         SIEMENS AKTIENGESELLSCHAFT     19\n",
       "13                  COMMISSARIAT A L'ENERGIE ATOMIQUE     18\n",
       "14                                 DAIMLERCHRYSLER AG     18\n",
       "15          CENTRE FOR RESEARCH AND TECHNOLOGY HELLAS     17\n",
       "16                                     FRANCE TELECOM     17\n",
       "17                                    LUND UNIVERSITY     17\n",
       "18    INSTITUTE OF COMMUNICATION AND COMPUTER SYSTEMS     16\n",
       "19           GKSS - FORSCHUNGSZENTRUM GEESTHACHT GMBH     16"
      ]
     },
     "execution_count": 40,
     "metadata": {},
     "output_type": "execute_result"
    }
   ],
   "source": [
    "name_count"
   ]
  },
  {
   "cell_type": "code",
   "execution_count": 41,
   "metadata": {},
   "outputs": [
    {
     "data": {
      "text/plain": [
       "Text(0, 0.5, 'Total No. of projects approved')"
      ]
     },
     "execution_count": 41,
     "metadata": {},
     "output_type": "execute_result"
    },
    {
     "data": {
      "image/png": "[encoded data removed]",
      "text/plain": [
       "<Figure size 720x504 with 1 Axes>"
      ]
     },
     "metadata": {
      "needs_background": "light"
     },
     "output_type": "display_data"
    }
   ],
   "source": [
    "plt.figure(figsize=(10,7))\n",
    "for i,v in enumerate(a):\n",
    "    plt.text(i,v,v, color='blue', fontweight='bold')\n",
    "sns.barplot(y=name_count.Count,x=name_count.name,orient='v')\n",
    "plt.xticks(rotation=90,fontsize=12,)\n",
    "plt.title('Top 20 projects approved of a same person',fontsize=20)\n",
    "plt.xlabel('Names',fontsize=15)\n",
    "plt.ylabel('Total No. of projects approved',fontsize=14)"
   ]
  },
  {
   "cell_type": "code",
   "execution_count": 42,
   "metadata": {},
   "outputs": [],
   "source": [
    "    # 7. what are the some top projectAcronym approved by FP5"
   ]
  },
  {
   "cell_type": "code",
   "execution_count": 43,
   "metadata": {},
   "outputs": [],
   "source": [
    "a = data[['projectAcronym']].value_counts()[:20]\n",
    "name_count = a.to_frame().reset_index().rename(columns={0 : 'Count'})"
   ]
  },
  {
   "cell_type": "code",
   "execution_count": 44,
   "metadata": {},
   "outputs": [
    {
     "data": {
      "text/html": [
       "<div>\n",
       "<style scoped>\n",
       "    .dataframe tbody tr th:only-of-type {\n",
       "        vertical-align: middle;\n",
       "    }\n",
       "\n",
       "    .dataframe tbody tr th {\n",
       "        vertical-align: top;\n",
       "    }\n",
       "\n",
       "    .dataframe thead th {\n",
       "        text-align: right;\n",
       "    }\n",
       "</style>\n",
       "<table border=\"1\" class=\"dataframe\">\n",
       "  <thead>\n",
       "    <tr style=\"text-align: right;\">\n",
       "      <th></th>\n",
       "      <th>projectAcronym</th>\n",
       "      <th>Count</th>\n",
       "    </tr>\n",
       "  </thead>\n",
       "  <tbody>\n",
       "    <tr>\n",
       "      <th>0</th>\n",
       "      <td>EURON</td>\n",
       "      <td>95</td>\n",
       "    </tr>\n",
       "    <tr>\n",
       "      <th>1</th>\n",
       "      <td>EUTIST-IMV</td>\n",
       "      <td>65</td>\n",
       "    </tr>\n",
       "    <tr>\n",
       "      <th>2</th>\n",
       "      <td>EUTIST-AMI</td>\n",
       "      <td>52</td>\n",
       "    </tr>\n",
       "    <tr>\n",
       "      <th>3</th>\n",
       "      <td>SCENET-2</td>\n",
       "      <td>52</td>\n",
       "    </tr>\n",
       "    <tr>\n",
       "      <th>4</th>\n",
       "      <td>OSNET</td>\n",
       "      <td>52</td>\n",
       "    </tr>\n",
       "    <tr>\n",
       "      <th>5</th>\n",
       "      <td>SILENCE-R</td>\n",
       "      <td>48</td>\n",
       "    </tr>\n",
       "    <tr>\n",
       "      <th>6</th>\n",
       "      <td>QUIPROCONE</td>\n",
       "      <td>46</td>\n",
       "    </tr>\n",
       "    <tr>\n",
       "      <th>7</th>\n",
       "      <td>BEEP</td>\n",
       "      <td>35</td>\n",
       "    </tr>\n",
       "    <tr>\n",
       "      <th>8</th>\n",
       "      <td>COLOGNET</td>\n",
       "      <td>34</td>\n",
       "    </tr>\n",
       "    <tr>\n",
       "      <th>9</th>\n",
       "      <td>EUTIST-M</td>\n",
       "      <td>34</td>\n",
       "    </tr>\n",
       "    <tr>\n",
       "      <th>10</th>\n",
       "      <td>INTERACT</td>\n",
       "      <td>32</td>\n",
       "    </tr>\n",
       "    <tr>\n",
       "      <th>11</th>\n",
       "      <td>ITEM</td>\n",
       "      <td>30</td>\n",
       "    </tr>\n",
       "    <tr>\n",
       "      <th>12</th>\n",
       "      <td>AD700-2</td>\n",
       "      <td>29</td>\n",
       "    </tr>\n",
       "    <tr>\n",
       "      <th>13</th>\n",
       "      <td>PHYTOHEALTH</td>\n",
       "      <td>29</td>\n",
       "    </tr>\n",
       "    <tr>\n",
       "      <th>14</th>\n",
       "      <td>BIONORM</td>\n",
       "      <td>28</td>\n",
       "    </tr>\n",
       "    <tr>\n",
       "      <th>15</th>\n",
       "      <td>MONET 2</td>\n",
       "      <td>28</td>\n",
       "    </tr>\n",
       "    <tr>\n",
       "      <th>16</th>\n",
       "      <td>DIAMOND</td>\n",
       "      <td>27</td>\n",
       "    </tr>\n",
       "    <tr>\n",
       "      <th>17</th>\n",
       "      <td>IMPACT</td>\n",
       "      <td>26</td>\n",
       "    </tr>\n",
       "    <tr>\n",
       "      <th>18</th>\n",
       "      <td>LAMNET</td>\n",
       "      <td>25</td>\n",
       "    </tr>\n",
       "    <tr>\n",
       "      <th>19</th>\n",
       "      <td>6NET</td>\n",
       "      <td>24</td>\n",
       "    </tr>\n",
       "  </tbody>\n",
       "</table>\n",
       "</div>"
      ],
      "text/plain": [
       "   projectAcronym  Count\n",
       "0           EURON     95\n",
       "1      EUTIST-IMV     65\n",
       "2      EUTIST-AMI     52\n",
       "3        SCENET-2     52\n",
       "4           OSNET     52\n",
       "5       SILENCE-R     48\n",
       "6      QUIPROCONE     46\n",
       "7            BEEP     35\n",
       "8        COLOGNET     34\n",
       "9        EUTIST-M     34\n",
       "10       INTERACT     32\n",
       "11           ITEM     30\n",
       "12        AD700-2     29\n",
       "13    PHYTOHEALTH     29\n",
       "14        BIONORM     28\n",
       "15        MONET 2     28\n",
       "16        DIAMOND     27\n",
       "17         IMPACT     26\n",
       "18         LAMNET     25\n",
       "19           6NET     24"
      ]
     },
     "execution_count": 44,
     "metadata": {},
     "output_type": "execute_result"
    }
   ],
   "source": [
    "name_count"
   ]
  },
  {
   "cell_type": "code",
   "execution_count": 45,
   "metadata": {
    "scrolled": true
   },
   "outputs": [
    {
     "data": {
      "text/plain": [
       "<AxesSubplot:xlabel='projectAcronym'>"
      ]
     },
     "execution_count": 45,
     "metadata": {},
     "output_type": "execute_result"
    },
    {
     "data": {
      "image/png": "[encoded data removed]",
      "text/plain": [
       "<Figure size 432x288 with 1 Axes>"
      ]
     },
     "metadata": {
      "needs_background": "light"
     },
     "output_type": "display_data"
    }
   ],
   "source": [
    "name_count.set_index('projectAcronym').plot.line()"
   ]
  }
 ],
 "metadata": {
  "kernelspec": {
   "display_name": "Python 3",
   "language": "python",
   "name": "python3"
  },
  "language_info": {
   "codemirror_mode": {
    "name": "ipython",
    "version": 3
   },
   "file_extension": ".py",
   "mimetype": "text/x-python",
   "name": "python",
   "nbconvert_exporter": "python",
   "pygments_lexer": "ipython3",
   "version": "3.6.9"
  }
 },
 "nbformat": 4,
 "nbformat_minor": 4
}
